{
 "cells": [
  {
   "cell_type": "markdown",
   "metadata": {
    "collapsed": true
   },
   "source": [
    "# Data Science Nanodegree - Blog Post\n",
    "Created By: Renan Vieira Dias\n",
    "\n",
    "--- "
   ]
  },
  {
   "cell_type": "markdown",
   "metadata": {},
   "source": [
    "### Rubrics for the Work\n",
    "https://review.udacity.com/#!/rubrics/1507/view"
   ]
  },
  {
   "cell_type": "markdown",
   "metadata": {},
   "source": [
    "### Titles For The Article\n",
    "\n",
    " - KeyWords:\n",
    "    - Data\n",
    "    - Job\n",
    "    - Work\n",
    "    - Employ\n",
    "    - Skills\n",
    "    - Language\n",
    "    - Salary\n",
    "    - Experience\n",
    "    - Seniority\n",
    "  \n",
    "  \n",
    " - Brain Storm:\n",
    "    - Requirements for Data Jobs\n",
    "    - Data Jobs tools\n",
    "    - What Data tells about Data Jobs\n",
    "    - How much each skill is worth it on data\n",
    "\n"
   ]
  },
  {
   "cell_type": "markdown",
   "metadata": {},
   "source": [
    "## Questions\n",
    "  \n",
    "- Which skills does each data job require?\n",
    "    - ['LanguageWorkedWith']\n",
    "    - ['LanguageDesireNextYear']\n",
    "    - ['DatabaseWorkedWith']\n",
    "    - ['DatabaseDesireNextYear']\n",
    "    - ['PlatformWorkedWith']\n",
    "    - ['PlatformDesireNextYear']\n",
    "    - ['WebFrameWorkedWith']\n",
    "    - ['WebFrameDesireNextYear']\n",
    "    - ['MiscTechWorkedWith']\n",
    "    - ['MiscTechDesireNextYear']\n",
    "    - ['DevEnviron']\n",
    "    - ['OpSys']\n",
    "  \n",
    "  \n",
    "- How long you have to be in the field to get to be senior? (Or equivalent money)\n",
    "    - ['YearsCodePro']\n",
    "    - ['CurrencySymbol','CurrencyDesc','CompTotal','CompFreq','ConvertedComp','WorkWeekHrs']\n",
    "        - alazar: the salary is different for each profession. (0-25%,26-50%,75%,)\n",
    "\n",
    "  \n",
    "- What are some variables that influence your salary per hours?\n",
    "    - ['EdLevel']\n",
    "    - ALL of the above ( Explain better this part)\n",
    "        - alazar: for each of the profession or hole group?? sugestion: only the data professions\n",
    "\n",
    "## Segment\n",
    "- ['Country'] = ????? \n",
    "    - (Sugestions: Top countries by volume of type)\n",
    "- ['Employment'] = ['Employed full-time','Employed part-time']\n",
    "- ['devtype_interest'] = ['Data or business analyst','Data scientist or machine learning specialist','Database administrator','Engineer, data']"
   ]
  },
  {
   "cell_type": "markdown",
   "metadata": {},
   "source": [
    "### Imports"
   ]
  },
  {
   "cell_type": "code",
   "execution_count": null,
   "metadata": {
    "collapsed": true
   },
   "outputs": [],
   "source": [
    "import pandas as pd\n",
    "import math\n",
    "import matplotlib.pyplot as plt\n",
    "import numpy as np"
   ]
  },
  {
   "cell_type": "markdown",
   "metadata": {},
   "source": [
    "### Functions"
   ]
  },
  {
   "cell_type": "code",
   "execution_count": null,
   "metadata": {
    "collapsed": true
   },
   "outputs": [],
   "source": [
    "def optionIsInCell(cell, option):\n",
    "    if str(cell).find(option)!=-1:\n",
    "        return 1\n",
    "    return 0"
   ]
  },
  {
   "cell_type": "code",
   "execution_count": null,
   "metadata": {
    "collapsed": true
   },
   "outputs": [],
   "source": [
    "def transformingColumnByOptions(df, column, options, prefix = False, separator='_'):\n",
    "    for each in options:\n",
    "        new_column = column + separator + each if prefix else each\n",
    "        df[new_column] = df[column].apply(optionIsInCell, option = each)\n",
    "    return df"
   ]
  },
  {
   "cell_type": "code",
   "execution_count": null,
   "metadata": {
    "collapsed": true
   },
   "outputs": [],
   "source": [
    "def isOneOfTheList(x, list_options):\n",
    "    for each in list_options:\n",
    "        if each in x:\n",
    "            return True\n",
    "    return False"
   ]
  },
  {
   "cell_type": "code",
   "execution_count": null,
   "metadata": {
    "collapsed": true
   },
   "outputs": [],
   "source": [
    "def getOptionOfMultipleSelection(df, column, separator = ';'):\n",
    "    flat_list = []\n",
    "    for sublist in df[column].dropna().str.split(pat=separator, expand=False):\n",
    "        for item in sublist:\n",
    "            if item not in flat_list:\n",
    "                flat_list.append(item)\n",
    "    return flat_list"
   ]
  },
  {
   "cell_type": "markdown",
   "metadata": {},
   "source": [
    "### Reading Data Files"
   ]
  },
  {
   "cell_type": "code",
   "execution_count": null,
   "metadata": {
    "collapsed": true
   },
   "outputs": [],
   "source": [
    "df = pd.read_csv('survey_results_public.csv')\n",
    "df_schema = pd.read_csv('survey_results_schema.csv')"
   ]
  },
  {
   "cell_type": "markdown",
   "metadata": {},
   "source": [
    "### Collecting Columns Options & Decoding"
   ]
  },
  {
   "cell_type": "code",
   "execution_count": null,
   "metadata": {
    "collapsed": true
   },
   "outputs": [],
   "source": [
    "columnsOptions = {}\n",
    "columnsToGetOptions =[\n",
    "        'DevType'\n",
    "        ,'EdLevel'\n",
    "        ,'LanguageWorkedWith'\n",
    "        ,'LanguageDesireNextYear'\n",
    "        ,'DatabaseWorkedWith'\n",
    "        ,'DatabaseDesireNextYear'\n",
    "        ,'PlatformWorkedWith'\n",
    "        ,'PlatformDesireNextYear'\n",
    "        ,'WebFrameWorkedWith'\n",
    "        ,'WebFrameDesireNextYear'\n",
    "        ,'MiscTechWorkedWith'\n",
    "        ,'MiscTechDesireNextYear'\n",
    "        ,'DevEnviron'\n",
    "        ,'OpSys'\n",
    "    ]\n",
    "for each in columnsToGetOptions:\n",
    "    tempList = getOptionOfMultipleSelection(df,each)\n",
    "    tempList.sort()\n",
    "    columnsOptions[each] = tempList"
   ]
  },
  {
   "cell_type": "code",
   "execution_count": null,
   "metadata": {
    "collapsed": true
   },
   "outputs": [],
   "source": [
    "# Creating each skill columns\n",
    "for questionColumn in columnsToGetOptions:\n",
    "    df = transformingColumnByOptions(df, questionColumn, columnsOptions[questionColumn], separator='_')"
   ]
  },
  {
   "cell_type": "markdown",
   "metadata": {},
   "source": [
    "### Checking the Employment\n",
    "- Columns: Employment\n",
    "- Question: Which of the following best describes your current employment status?\n",
    "- Interest In the following DevTypes:\n",
    "    - 'Employed full-time'\n",
    "    - 'Employed part-time'"
   ]
  },
  {
   "cell_type": "code",
   "execution_count": null,
   "metadata": {
    "collapsed": true
   },
   "outputs": [],
   "source": [
    "# Get only employed surveys\n",
    "df = df[ df['Employment'].isin(['Employed full-time','Employed part-time']) ]"
   ]
  },
  {
   "cell_type": "markdown",
   "metadata": {},
   "source": [
    "### Checking Every Work Title\n",
    "- Columns: DevType\n",
    "- Question: Which of the following describe you? Please select all that apply.\n",
    "- Interest In the following DevTypes:\n",
    "    - 'Data or business analyst'\n",
    "    - 'Data scientist or machine learning specialist'\n",
    "    - 'Database administrator'\n",
    "    - 'Engineer, data'\n"
   ]
  },
  {
   "cell_type": "code",
   "execution_count": null,
   "metadata": {
    "collapsed": true
   },
   "outputs": [],
   "source": [
    "devtype_interest = [\n",
    "    'Data or business analyst'\n",
    "    ,'Data scientist or machine learning specialist'\n",
    "    ,'Database administrator'\n",
    "    ,'Engineer, data'\n",
    "]\n",
    "\n",
    "# Getting a list of the other jobs\n",
    "devtype_not_interest = []\n",
    "for each in columnsOptions['DevType']:\n",
    "    if not each in devtype_interest:\n",
    "        devtype_not_interest.append(each)"
   ]
  },
  {
   "cell_type": "code",
   "execution_count": null,
   "metadata": {
    "collapsed": true
   },
   "outputs": [],
   "source": [
    "# Clearing those with no interest on data DevType\n",
    "df = df.dropna(subset = ['DevType']).copy()\n",
    "# df['datajobs'] = df['DevType'].apply( isOneOfTheList, list_options = devtype_interest)\n",
    "# df = df[df['datajobs']]\n",
    "# df = df.drop(['datajobs'], axis=1)"
   ]
  },
  {
   "cell_type": "code",
   "execution_count": null,
   "metadata": {
    "collapsed": true
   },
   "outputs": [],
   "source": [
    "dataJobsOutputs = [\n",
    "    'Data or business analyst'\n",
    "    ,'Data scientist or machine learning specialist'\n",
    "    ,'Database administrator'\n",
    "    ,'Engineer, data'\n",
    "    ,'Data Misture'\n",
    "    ,'Data Partialy'\n",
    "    ,'Not Data'\n",
    "]\n",
    "\n",
    "# Creating the data jobs Categories\n",
    "def dataJobsClassificationMicro(DevType):\n",
    "    for interest in devtype_interest:\n",
    "        if interest == DevType:\n",
    "            return interest\n",
    "    for interest in devtype_interest:\n",
    "        if interest in DevType:\n",
    "            for not_interest in devtype_not_interest:\n",
    "                if not_interest in DevType:\n",
    "                    return 'Data Partialy'\n",
    "            return 'Data Misture'\n",
    "    return 'Not Data'\n",
    "\n",
    "def dataJobsClassificationMacro(DevType):\n",
    "    for interest in devtype_interest:\n",
    "        if interest == DevType:\n",
    "            return 'DataJob'\n",
    "    for interest in devtype_interest:\n",
    "        if interest in DevType:\n",
    "            for not_interest in devtype_not_interest:\n",
    "                if not_interest in DevType:\n",
    "                    return 'Data Partialy'\n",
    "            return 'DataJob'\n",
    "    return 'Not Data'"
   ]
  },
  {
   "cell_type": "code",
   "execution_count": null,
   "metadata": {},
   "outputs": [],
   "source": [
    "df['datajobsCategoryMicro'] = df['DevType'].apply( dataJobsClassificationMicro )\n",
    "df['datajobsCategoryMacro'] = df['DevType'].apply( dataJobsClassificationMacro )"
   ]
  },
  {
   "cell_type": "code",
   "execution_count": null,
   "metadata": {},
   "outputs": [],
   "source": [
    "df[['DevType','datajobsCategoryMicro']].head(5)"
   ]
  },
  {
   "cell_type": "code",
   "execution_count": null,
   "metadata": {},
   "outputs": [],
   "source": [
    "df['datajobsCategoryMicro'].value_counts()"
   ]
  },
  {
   "cell_type": "markdown",
   "metadata": {
    "collapsed": true
   },
   "source": [
    "### Understanding Job Skills"
   ]
  },
  {
   "cell_type": "markdown",
   "metadata": {},
   "source": [
    "question. \n"
   ]
  },
  {
   "cell_type": "markdown",
   "metadata": {
    "collapsed": true
   },
   "source": [
    "### Plotting Each Interest"
   ]
  },
  {
   "cell_type": "code",
   "execution_count": null,
   "metadata": {},
   "outputs": [],
   "source": [
    "groupedResults = df.groupby(['datajobsCategoryMacro']).mean()\n",
    "for skill in columnsOptions:\n",
    "        groupedResults.reset_index()[columnsOptions[skill]].transpose().plot.barh()\n",
    "        plt.legend(groupedResults.index)\n",
    "        plt.title(skill)\n",
    "        plt.show()\n"
   ]
  },
  {
   "cell_type": "code",
   "execution_count": null,
   "metadata": {},
   "outputs": [],
   "source": [
    "# .sort_values('Speed')\n",
    "for eachOutput in dataJobsOutputs:\n",
    "    groupedResults = df[df['datajobsCategoryMicro']==eachOutput].groupby(['datajobsCategoryMicro']).mean()\n",
    "    for skill in columnsOptions:\n",
    "            groupedResults.reset_index()[columnsOptions[skill]].transpose().sort_values(0,ascending=True).plot.barh()\n",
    "            plt.legend(groupedResults.index)\n",
    "            plt.title(eachOutput + ' - ' + skill)\n",
    "            plt.show()\n"
   ]
  },
  {
   "cell_type": "code",
   "execution_count": null,
   "metadata": {},
   "outputs": [],
   "source": [
    "# Checking the distribution of 'Data Misture'\n",
    "groupedResults.reset_index()[groupedResults.reset_index()['datajobsCategoryMicro']=='Data Misture'][devtype_interest].transpose()"
   ]
  },
  {
   "cell_type": "code",
   "execution_count": null,
   "metadata": {
    "collapsed": true
   },
   "outputs": [],
   "source": []
  },
  {
   "cell_type": "markdown",
   "metadata": {},
   "source": [
    "(Review) C\n"
   ]
  },
  {
   "cell_type": "markdown",
   "metadata": {},
   "source": [
    "Sugestion: DATA RELATED AREA (GROUP FIRST?)"
   ]
  },
  {
   "cell_type": "markdown",
   "metadata": {},
   "source": [
    "### Calculating Equivalent Salary\n",
    "  \n",
    "  \n",
    "To calculate the seniority of a salary?\n",
    " - By Country\n",
    " - By Job Profession\n",
    " - At least 100\n",
    " - Histogram with quarter?\n",
    "     - Junior 0-25%\n",
    "     - Pleno 26-50%\n",
    "     - Senior 51-75%\n",
    "     - Specialist 100%\n",
    "  \n",
    "  \n",
    " - Plot\n",
    "     - Top countries 1 for each top 5\n",
    "     - X - Years of experience\n",
    "     - Y - DollarPerHour\n",
    "     - Colour - DataType"
   ]
  },
  {
   "cell_type": "code",
   "execution_count": null,
   "metadata": {},
   "outputs": [],
   "source": [
    "weeksInYear = 52\n",
    "df['DollarPerHour'] = df['ConvertedComp']/df['WorkWeekHrs']/weeksInYear\n",
    "df[['Country','CurrencySymbol','CurrencyDesc','CompTotal','CompFreq','ConvertedComp','WorkWeekHrs','DollarPerHour']].head(5)"
   ]
  },
  {
   "cell_type": "code",
   "execution_count": null,
   "metadata": {},
   "outputs": [],
   "source": [
    "def cleaningYearsOfCode(text):\n",
    "    if text == 'Less than 1 year':\n",
    "        return 0.5\n",
    "    return text"
   ]
  },
  {
   "cell_type": "code",
   "execution_count": null,
   "metadata": {},
   "outputs": [],
   "source": [
    "df['YearsCodeProFix'] = df['YearsCodePro'].apply(cleaningYearsOfCode)\n",
    "df['YearsCodeProFix'].head()"
   ]
  },
  {
   "cell_type": "code",
   "execution_count": null,
   "metadata": {},
   "outputs": [],
   "source": [
    "dfSalary = df[df['Country']=='Brazil']\n",
    "dfSalaryClean = dfSalary.dropna( subset = ['Country','YearsCodeProFix','DollarPerHour','datajobsCategoryMicro'])\n",
    "dfSalaryClean[['Country','YearsCodeProFix','DollarPerHour','datajobsCategoryMicro']].head(5)"
   ]
  },
  {
   "cell_type": "code",
   "execution_count": null,
   "metadata": {},
   "outputs": [],
   "source": [
    "dataJobsOutputs"
   ]
  },
  {
   "cell_type": "code",
   "execution_count": null,
   "metadata": {
    "collapsed": true
   },
   "outputs": [],
   "source": [
    "‘b’\tblue\n",
    "‘g’\tgreen\n",
    "‘r’\tred\n",
    "‘c’\tcyan\n",
    "‘m’\tmagenta\n",
    "‘y’\tyellow\n",
    "‘k’\tblack"
   ]
  },
  {
   "cell_type": "code",
   "execution_count": null,
   "metadata": {},
   "outputs": [],
   "source": [
    "colors = ['b','g','r','c','m','y','k','b','b','b']\n",
    "\n",
    "dataPlots = {}\n",
    "i = 0\n",
    "# for each in ['Data or business analyst']:\n",
    "for each in dataJobsOutputs:\n",
    "    dataPlots[each] = plt.scatter(dfSalaryClean['YearsCodeProFix'], dfSalaryClean['DollarPerHour'], color=colors[i])\n",
    "    i = i + 1\n",
    "\n",
    "plt.legend(dataPlots.values(),\n",
    "           dataPlots.keys(),\n",
    "           scatterpoints=1,\n",
    "           loc='lower left',\n",
    "           ncol=3,\n",
    "           fontsize=8)\n",
    "\n",
    "\n",
    "plt.ylim((0, 100))\n",
    "plt.xlim((0, 20))\n",
    "plt.title( 'Year Of Coding VS Salary By Country and Job' )\n",
    "\n",
    "plt.show()"
   ]
  },
  {
   "cell_type": "code",
   "execution_count": null,
   "metadata": {},
   "outputs": [],
   "source": [
    "colors = ['b', 'c', 'y', 'm', 'r']\n",
    "\n",
    "lo = plt.scatter(np.random.random(10), np.random.random(10), marker='x', color=colors[0])\n",
    "ll = plt.scatter(np.random.random(10), np.random.random(10), marker='o', color=colors[0])\n",
    "l  = plt.scatter(np.random.random(10), np.random.random(10), marker='o', color=colors[1])\n",
    "a  = plt.scatter(np.random.random(10), np.random.random(10), marker='o', color=colors[2])\n",
    "h  = plt.scatter(np.random.random(10), np.random.random(10), marker='o', color=colors[3])\n",
    "hh = plt.scatter(np.random.random(10), np.random.random(10), marker='o', color=colors[4])\n",
    "ho = plt.scatter(np.random.random(10), np.random.random(10), marker='x', color=colors[4])\n",
    "\n",
    "plt.legend((lo, ll, l, a, h, hh, ho),\n",
    "           ('Low Outlier', 'LoLo', 'Lo', 'Average', 'Hi', 'HiHi', 'High Outlier'),\n",
    "           scatterpoints=1,\n",
    "           loc='lower left',\n",
    "           ncol=3,\n",
    "           fontsize=8)\n",
    "\n",
    "plt.show()"
   ]
  },
  {
   "cell_type": "markdown",
   "metadata": {},
   "source": [
    "### Years of code"
   ]
  },
  {
   "cell_type": "code",
   "execution_count": null,
   "metadata": {
    "scrolled": true
   },
   "outputs": [],
   "source": [
    "df['YearsCodePro'].head(50)"
   ]
  },
  {
   "cell_type": "code",
   "execution_count": null,
   "metadata": {
    "scrolled": true
   },
   "outputs": [],
   "source": [
    "df['Country'].value_counts()"
   ]
  },
  {
   "cell_type": "code",
   "execution_count": null,
   "metadata": {
    "collapsed": true
   },
   "outputs": [],
   "source": []
  },
  {
   "cell_type": "code",
   "execution_count": null,
   "metadata": {
    "collapsed": true
   },
   "outputs": [],
   "source": []
  },
  {
   "cell_type": "code",
   "execution_count": null,
   "metadata": {
    "collapsed": true
   },
   "outputs": [],
   "source": []
  }
 ],
 "metadata": {
  "kernelspec": {
   "display_name": "Python 3",
   "language": "python",
   "name": "python3"
  },
  "language_info": {
   "codemirror_mode": {
    "name": "ipython",
    "version": 3
   },
   "file_extension": ".py",
   "mimetype": "text/x-python",
   "name": "python",
   "nbconvert_exporter": "python",
   "pygments_lexer": "ipython3",
   "version": "3.6.1"
  }
 },
 "nbformat": 4,
 "nbformat_minor": 2
}
