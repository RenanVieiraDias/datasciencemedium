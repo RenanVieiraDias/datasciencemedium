{
 "cells": [
  {
   "cell_type": "markdown",
   "metadata": {
    "collapsed": true
   },
   "source": [
    "# Data Science Nanodegree - Blog Post\n",
    "Created By: Renan Vieira Dias\n",
    "\n",
    "--- "
   ]
  },
  {
   "cell_type": "markdown",
   "metadata": {},
   "source": [
    "### Rubrics for the Work\n",
    "https://review.udacity.com/#!/rubrics/1507/view"
   ]
  },
  {
   "cell_type": "markdown",
   "metadata": {},
   "source": [
    "### Titles For The Article\n",
    "\n",
    " - KeyWords:\n",
    "    - Data\n",
    "    - Job\n",
    "    - Work\n",
    "    - Employ\n",
    "    - Skills\n",
    "    - Language\n",
    "    - Salary\n",
    "    - Experience\n",
    "    - Seniority\n",
    "  \n",
    "  \n",
    " - Brain Storm:\n",
    "    - Requirements for Data Jobs\n",
    "    - Data Jobs tools\n",
    "    - What Data tells about Data Jobs\n",
    "    - How much each skill is worth it on data\n",
    "\n"
   ]
  },
  {
   "cell_type": "markdown",
   "metadata": {},
   "source": [
    "## Questions\n",
    "  \n",
    "- Which skills does each data job require?\n",
    "    - ['LanguageWorkedWith']\n",
    "    - ['LanguageDesireNextYear']\n",
    "    - ['DatabaseWorkedWith']\n",
    "    - ['DatabaseDesireNextYear']\n",
    "    - ['PlatformWorkedWith']\n",
    "    - ['PlatformDesireNextYear']\n",
    "    - ['WebFrameWorkedWith']\n",
    "    - ['WebFrameDesireNextYear']\n",
    "    - ['MiscTechWorkedWith']\n",
    "    - ['MiscTechDesireNextYear']\n",
    "    - ['DevEnviron']\n",
    "    - ['OpSys']\n",
    "  \n",
    "  \n",
    "- How long you have to be in the field to get to be senior? (Or equivalent money)\n",
    "    - ['YearsCodePro']\n",
    "    - ['CurrencySymbol','CurrencyDesc','CompTotal','CompFreq','ConvertedComp','WorkWeekHrs']\n",
    "        - alazar: the salary is different for each profession. (0-25%,26-50%,75%,)\n",
    "\n",
    "  \n",
    "- What are some variables that influence your salary per hours?\n",
    "    - ['EdLevel']\n",
    "    - ALL of the above ( Explain better this part)\n",
    "        - alazar: for each of the profession or hole group?? sugestion: only the data professions\n",
    "\n",
    "## Segment\n",
    "- ['Country'] = ????? \n",
    "    - (Sugestions: Top countries by volume of type)\n",
    "- ['Employment'] = ['Employed full-time','Employed part-time']\n",
    "- ['devtype_interest'] = ['Data or business analyst','Data scientist or machine learning specialist','Database administrator','Engineer, data']"
   ]
  },
  {
   "cell_type": "markdown",
   "metadata": {},
   "source": [
    "### Imports"
   ]
  },
  {
   "cell_type": "code",
   "execution_count": null,
   "metadata": {
    "collapsed": true
   },
   "outputs": [],
   "source": [
    "import pandas as pd\n",
    "import math\n",
    "import matplotlib.pyplot as plt"
   ]
  },
  {
   "cell_type": "markdown",
   "metadata": {},
   "source": [
    "### Functions"
   ]
  },
  {
   "cell_type": "code",
   "execution_count": null,
   "metadata": {
    "collapsed": true
   },
   "outputs": [],
   "source": [
    "def optionIsInCell(cell, option):\n",
    "    if str(cell).find(option)!=-1:\n",
    "        return 1\n",
    "    return 0"
   ]
  },
  {
   "cell_type": "code",
   "execution_count": null,
   "metadata": {
    "collapsed": true
   },
   "outputs": [],
   "source": [
    "def transformingColumnByOptions(df, column, options, prefix = False, separator='_'):\n",
    "    for each in options:\n",
    "        new_column = column + separator + each if prefix else each\n",
    "        df[new_column] = df[column].apply(optionIsInCell, option = each)\n",
    "    return df"
   ]
  },
  {
   "cell_type": "code",
   "execution_count": null,
   "metadata": {
    "collapsed": true
   },
   "outputs": [],
   "source": [
    "def isOneOfTheList(x, list_options):\n",
    "    for each in list_options:\n",
    "        if each in x:\n",
    "            return True\n",
    "    return False"
   ]
  },
  {
   "cell_type": "code",
   "execution_count": null,
   "metadata": {
    "collapsed": true
   },
   "outputs": [],
   "source": [
    "def getOptionOfMultipleSelection(df, column, separator = ';'):\n",
    "    flat_list = []\n",
    "    for sublist in df[column].dropna().str.split(pat=separator, expand=False):\n",
    "        for item in sublist:\n",
    "            if item not in flat_list:\n",
    "                flat_list.append(item)\n",
    "    return flat_list"
   ]
  },
  {
   "cell_type": "markdown",
   "metadata": {},
   "source": [
    "### Reading Data Files"
   ]
  },
  {
   "cell_type": "code",
   "execution_count": null,
   "metadata": {
    "collapsed": true
   },
   "outputs": [],
   "source": [
    "df = pd.read_csv('survey_results_public.csv')\n",
    "df_schema = pd.read_csv('survey_results_schema.csv')"
   ]
  },
  {
   "cell_type": "markdown",
   "metadata": {},
   "source": [
    "### Collecting Columns Options"
   ]
  },
  {
   "cell_type": "code",
   "execution_count": null,
   "metadata": {
    "collapsed": true
   },
   "outputs": [],
   "source": [
    "columnsOptions = {}\n",
    "columnsToGetOptions =[\n",
    "        'DevType'\n",
    "        #,'EdLevel'\n",
    "        ,'LanguageWorkedWith'\n",
    "        ,'LanguageDesireNextYear'\n",
    "        ,'DatabaseWorkedWith'\n",
    "        ,'DatabaseDesireNextYear'\n",
    "        ,'PlatformWorkedWith'\n",
    "        ,'PlatformDesireNextYear'\n",
    "        ,'WebFrameWorkedWith'\n",
    "        ,'WebFrameDesireNextYear'\n",
    "        ,'MiscTechWorkedWith'\n",
    "        ,'MiscTechDesireNextYear'\n",
    "        ,'DevEnviron'\n",
    "        ,'OpSys'\n",
    "    ]\n",
    "for each in columnsToGetOptions:\n",
    "    tempList = getOptionOfMultipleSelection(df,each)\n",
    "    tempList.sort()\n",
    "    columnsOptions[each] = tempList"
   ]
  },
  {
   "cell_type": "code",
   "execution_count": null,
   "metadata": {},
   "outputs": [],
   "source": [
    "columnsOptions"
   ]
  },
  {
   "cell_type": "markdown",
   "metadata": {},
   "source": [
    "### Checking the Employment\n",
    "- Columns: Employment\n",
    "- Question: Which of the following best describes your current employment status?\n",
    "- Interest In the following DevTypes:\n",
    "    - 'Employed full-time'\n",
    "    - 'Employed part-time'"
   ]
  },
  {
   "cell_type": "code",
   "execution_count": null,
   "metadata": {},
   "outputs": [],
   "source": [
    "# Get only employed surveys\n",
    "df = df[ df['Employment'].isin(['Employed full-time','Employed part-time']) ]"
   ]
  },
  {
   "cell_type": "markdown",
   "metadata": {},
   "source": [
    "### Checking Every Work Title\n",
    "- Columns: DevType\n",
    "- Question: Which of the following describe you? Please select all that apply.\n",
    "- Interest In the following DevTypes:\n",
    "    - 'Data or business analyst'\n",
    "    - 'Data scientist or machine learning specialist'\n",
    "    - 'Database administrator'\n",
    "    - 'Engineer, data'\n"
   ]
  },
  {
   "cell_type": "code",
   "execution_count": null,
   "metadata": {
    "collapsed": true
   },
   "outputs": [],
   "source": [
    "devtype_interest = [\n",
    "    'Data or business analyst'\n",
    "    ,'Data scientist or machine learning specialist'\n",
    "    ,'Database administrator'\n",
    "    ,'Engineer, data'\n",
    "]"
   ]
  },
  {
   "cell_type": "code",
   "execution_count": null,
   "metadata": {
    "collapsed": true
   },
   "outputs": [],
   "source": [
    "# Getting all types of DevTypes\n",
    "df = transformingColumnByOptions( df, 'DevType', columnsOptions['DevType'])"
   ]
  },
  {
   "cell_type": "code",
   "execution_count": null,
   "metadata": {
    "collapsed": true
   },
   "outputs": [],
   "source": [
    "# Clearing those with no interest on data DevType\n",
    "df = df.dropna(subset = ['DevType']).copy()\n",
    "df['datajobs'] = df['DevType'].apply( isOneOfTheList, list_options = devtype_interest)\n",
    "df = df[df['datajobs']]\n",
    "df = df.drop(['datajobs'], axis=1)"
   ]
  },
  {
   "cell_type": "markdown",
   "metadata": {},
   "source": [
    "### Calculating Equivalent Salary"
   ]
  },
  {
   "cell_type": "code",
   "execution_count": null,
   "metadata": {
    "scrolled": true
   },
   "outputs": [],
   "source": [
    "weeksInYear = 52\n",
    "df['DollarPerHour'] = df['ConvertedComp']/df['WorkWeekHrs']/weeksInYear\n",
    "df[['Country','CurrencySymbol','CurrencyDesc','CompTotal','CompFreq','ConvertedComp','WorkWeekHrs','DollarPerHour']]"
   ]
  },
  {
   "cell_type": "markdown",
   "metadata": {
    "collapsed": true
   },
   "source": [
    "### Understanding Job Skills"
   ]
  },
  {
   "cell_type": "code",
   "execution_count": null,
   "metadata": {
    "collapsed": true
   },
   "outputs": [],
   "source": [
    "jobskillsquestions = [\n",
    "    'LanguageWorkedWith'\n",
    "    ,'LanguageDesireNextYear'\n",
    "    ,'DatabaseWorkedWith'\n",
    "    ,'DatabaseDesireNextYear'\n",
    "    ,'PlatformWorkedWith'\n",
    "    ,'PlatformDesireNextYear'\n",
    "    ,'WebFrameWorkedWith'\n",
    "    ,'WebFrameDesireNextYear'\n",
    "    ,'MiscTechWorkedWith'\n",
    "    ,'MiscTechDesireNextYear'\n",
    "    ,'DevEnviron'\n",
    "    ,'OpSys'\n",
    "]"
   ]
  },
  {
   "cell_type": "code",
   "execution_count": null,
   "metadata": {
    "collapsed": true
   },
   "outputs": [],
   "source": [
    "# Creating each skill columns\n",
    "for skillQuestion in jobskillsquestions:\n",
    "    df = transformingColumnByOptions(df, skillQuestion, columnsOptions[skillQuestion], separator='_')"
   ]
  },
  {
   "cell_type": "code",
   "execution_count": null,
   "metadata": {
    "collapsed": true
   },
   "outputs": [],
   "source": [
    "# Filtering only data science\n",
    "# df_datascience = df[df['DevType_Data scientist or machine learning specialist']==1]"
   ]
  },
  {
   "cell_type": "code",
   "execution_count": null,
   "metadata": {},
   "outputs": [],
   "source": [
    "df.groupby(devtype_interest).count()"
   ]
  },
  {
   "cell_type": "markdown",
   "metadata": {},
   "source": [
    "question. \n"
   ]
  },
  {
   "cell_type": "code",
   "execution_count": null,
   "metadata": {},
   "outputs": [],
   "source": [
    "df.groupby(devtype_interest).mean().reset_index().transpose()"
   ]
  },
  {
   "cell_type": "code",
   "execution_count": null,
   "metadata": {
    "collapsed": true
   },
   "outputs": [],
   "source": [
    "results = df.groupby(['Data scientist or machine learning specialist']).mean().reset_index()\n",
    "# results = df_datascience.groupby(['DevType_Data scientist or machine learning specialist']).mean().reset_index()\n",
    "resultst = results.transpose()"
   ]
  },
  {
   "cell_type": "code",
   "execution_count": null,
   "metadata": {},
   "outputs": [],
   "source": [
    "results.head()"
   ]
  },
  {
   "cell_type": "code",
   "execution_count": null,
   "metadata": {},
   "outputs": [],
   "source": [
    "results[devtype_interest].transpose().plot.bar()\n",
    "plt.show()"
   ]
  },
  {
   "cell_type": "markdown",
   "metadata": {
    "collapsed": true
   },
   "source": [
    "### Plotting Each Interest"
   ]
  },
  {
   "cell_type": "code",
   "execution_count": null,
   "metadata": {
    "scrolled": true
   },
   "outputs": [],
   "source": [
    "for each in devtype_interest:\n",
    "    tempResults = df.groupby([each]).mean().reset_index()\n",
    "    tempResults[devtype_interest].transpose().plot.bar()\n",
    "    plt.show()\n",
    "    "
   ]
  },
  {
   "cell_type": "code",
   "execution_count": null,
   "metadata": {},
   "outputs": [],
   "source": [
    "for eachDevtype in devtype_interest:\n",
    "    for skill in columnsOptions:\n",
    "        tempResults = df.groupby([eachDevtype]).mean().reset_index()\n",
    "        tempResults[columnsOptions[skill]].transpose().plot.bar()\n",
    "        plt.title(eachDevtype + ' - ' + skill)\n",
    "        plt.show()\n"
   ]
  },
  {
   "cell_type": "markdown",
   "metadata": {},
   "source": [
    "(Review) C\n"
   ]
  },
  {
   "cell_type": "markdown",
   "metadata": {},
   "source": [
    "Sugestion: DATA RELATED AREA (GROUP FIRST?)"
   ]
  },
  {
   "cell_type": "markdown",
   "metadata": {},
   "source": [
    "### Years of code"
   ]
  },
  {
   "cell_type": "code",
   "execution_count": null,
   "metadata": {
    "scrolled": true
   },
   "outputs": [],
   "source": [
    "df['YearsCodePro'].head(50)"
   ]
  },
  {
   "cell_type": "code",
   "execution_count": null,
   "metadata": {
    "scrolled": true
   },
   "outputs": [],
   "source": [
    "df['Country'].value_counts()"
   ]
  },
  {
   "cell_type": "code",
   "execution_count": null,
   "metadata": {
    "collapsed": true
   },
   "outputs": [],
   "source": []
  },
  {
   "cell_type": "code",
   "execution_count": null,
   "metadata": {
    "collapsed": true
   },
   "outputs": [],
   "source": []
  },
  {
   "cell_type": "code",
   "execution_count": null,
   "metadata": {
    "collapsed": true
   },
   "outputs": [],
   "source": []
  }
 ],
 "metadata": {
  "kernelspec": {
   "display_name": "Python 3",
   "language": "python",
   "name": "python3"
  },
  "language_info": {
   "codemirror_mode": {
    "name": "ipython",
    "version": 3
   },
   "file_extension": ".py",
   "mimetype": "text/x-python",
   "name": "python",
   "nbconvert_exporter": "python",
   "pygments_lexer": "ipython3",
   "version": "3.6.1"
  }
 },
 "nbformat": 4,
 "nbformat_minor": 2
}
